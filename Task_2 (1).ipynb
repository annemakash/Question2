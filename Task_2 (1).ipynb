{
  "nbformat": 4,
  "nbformat_minor": 0,
  "metadata": {
    "colab": {
      "provenance": []
    },
    "kernelspec": {
      "name": "python3",
      "display_name": "Python 3"
    },
    "language_info": {
      "name": "python"
    }
  },
  "cells": [
    {
      "cell_type": "code",
      "execution_count": 2,
      "metadata": {
        "colab": {
          "base_uri": "https://localhost:8080/"
        },
        "id": "piQoEKUeXQHD",
        "outputId": "aaf134c0-1743-4bb7-c63a-ec4fcdaa6636"
      },
      "outputs": [
        {
          "output_type": "execute_result",
          "data": {
            "text/plain": [
              "105"
            ]
          },
          "metadata": {},
          "execution_count": 2
        }
      ],
      "source": [
        "import time\n",
        "\n",
        "# Generate the number (n) using the provided algorithm\n",
        "current_time = int(time.time())\n",
        "generated_number = (current_time % 100) + 50\n",
        "\n",
        "if generated_number % 2 == 0:\n",
        "    generated_number += 10\n",
        "\n",
        "generated_number"
      ]
    },
    {
      "cell_type": "code",
      "source": [
        "from google.colab import drive\n",
        "drive.mount('/content/drive')"
      ],
      "metadata": {
        "colab": {
          "base_uri": "https://localhost:8080/"
        },
        "id": "zerwncHmB0p4",
        "outputId": "47c70599-c04b-47b4-c936-ead857a99c18"
      },
      "execution_count": 1,
      "outputs": [
        {
          "output_type": "stream",
          "name": "stdout",
          "text": [
            "Mounted at /content/drive\n"
          ]
        }
      ]
    },
    {
      "cell_type": "code",
      "source": [
        "from PIL import Image\n",
        "\n",
        "# Load the provided image\n",
        "image_path = '/content/drive/MyDrive/chapter1.jpg'\n",
        "image = Image.open(image_path)\n",
        "\n",
        "# Prepare to modify the image\n",
        "pixels = image.load()\n",
        "width, height = image.size\n",
        "\n",
        "# Modify each pixel by adding the generated number to each RGB component\n",
        "for x in range(width):\n",
        "    for y in range(height):\n",
        "        r, g, b = pixels[x, y]\n",
        "        new_r = min(r + generated_number, 255)  # Ensure the value doesn't exceed 255\n",
        "        new_g = min(g + generated_number, 255)\n",
        "        new_b = min(b + generated_number, 255)\n",
        "        pixels[x, y] = (new_r, new_g, new_b)\n",
        "\n",
        "# Save the modified image\n",
        "output_image_path = '/content/drive/MyDrive/Colab Notebooks/chapter1out.png'\n",
        "image.save(output_image_path)\n",
        "\n",
        "# Calculate the sum of all red (R) pixel values in the new image\n",
        "total_red_value = sum(pixels[x, y][0] for x in range(width) for y in range(height))\n",
        "\n",
        "output_image_path, total_red_value\n"
      ],
      "metadata": {
        "colab": {
          "base_uri": "https://localhost:8080/"
        },
        "id": "JIhvNCnXXfbJ",
        "outputId": "73296738-fa5f-4402-96eb-97d277550942"
      },
      "execution_count": 3,
      "outputs": [
        {
          "output_type": "execute_result",
          "data": {
            "text/plain": [
              "('/content/drive/MyDrive/Colab Notebooks/chapter1out.png', 343903177)"
            ]
          },
          "metadata": {},
          "execution_count": 3
        }
      ]
    }
  ]
}